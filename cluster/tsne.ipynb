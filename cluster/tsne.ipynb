{
 "cells": [
  {
   "cell_type": "code",
   "execution_count": 1,
   "metadata": {
    "collapsed": false
   },
   "outputs": [
    {
     "name": "stdout",
     "output_type": "stream",
     "text": [
      "\u001b[31mdocker-py 1.10.3 has requirement requests<2.11,>=2.5.2, but you'll have requests 2.18.4 which is incompatible.\u001b[0m\n",
      "\u001b[31mpyasn1-modules 0.2.2 has requirement pyasn1<0.5.0,>=0.4.1, but you'll have pyasn1 0.1.9 which is incompatible.\u001b[0m\n",
      "\u001b[33mYou are using pip version 10.0.1, however version 18.1 is available.\n",
      "You should consider upgrading via the 'pip install --upgrade pip' command.\u001b[0m\n"
     ]
    }
   ],
   "source": [
    "!pip install -q colorhash"
   ]
  },
  {
   "cell_type": "code",
   "execution_count": 8,
   "metadata": {
    "collapsed": true
   },
   "outputs": [],
   "source": [
    "from __future__ import print_function\n",
    "import numpy as np\n",
    "from sklearn.manifold import TSNE\n",
    "import matplotlib.pyplot as plt\n",
    "from colorhash import ColorHash\n",
    "\n",
    "def plot_with_labels(low_dim_embs, labels, filename='tsne.png'):\n",
    "    assert low_dim_embs.shape[0] >= len(labels), \"More labels than embeddings\"\n",
    "    plt.figure(figsize=(18, 18))  # in inches\n",
    "    for i, label in enumerate(labels):\n",
    "        x, y = low_dim_embs[i, :]\n",
    "        plt.scatter(x, y, c=ColorHash(label).hex)\n",
    "#         plt.annotate(label,\n",
    "#                  xy=(x, y),\n",
    "#                  xytext=(5, 2),\n",
    "#                  textcoords='offset points',\n",
    "#                  ha='right',\n",
    "#                  va='bottom')\n",
    "    plt.savefig(filename)"
   ]
  },
  {
   "cell_type": "code",
   "execution_count": 2,
   "metadata": {
    "collapsed": true
   },
   "outputs": [],
   "source": [
    "import cPickle as pkl\n",
    "feats = pkl.load(open('/home/minjunli/feats_all.pkl'))"
   ]
  },
  {
   "cell_type": "code",
   "execution_count": 12,
   "metadata": {
    "collapsed": false
   },
   "outputs": [
    {
     "name": "stdout",
     "output_type": "stream",
     "text": [
      "\n"
     ]
    }
   ],
   "source": [
    "import tqdm\n",
    "X = []\n",
    "Y = []\n",
    "for cls in tqdm.tqdm_notebook(feats):\n",
    "    for ins in feats[cls][:100]:\n",
    "        X.append(ins)\n",
    "        Y.append(cls)\n",
    "X = np.asarray(X)\n",
    "Y = np.asarray(Y)"
   ]
  },
  {
   "cell_type": "code",
   "execution_count": 13,
   "metadata": {
    "collapsed": true
   },
   "outputs": [],
   "source": [
    "# Creating the tsne plot [Warning: will take time]\n",
    "tsne = TSNE(perplexity=30.0, n_components=2, init='pca', n_iter=5000, verbose=1)"
   ]
  },
  {
   "cell_type": "code",
   "execution_count": 14,
   "metadata": {
    "collapsed": false
   },
   "outputs": [
    {
     "name": "stdout",
     "output_type": "stream",
     "text": [
      "[t-SNE] Computing 91 nearest neighbors...\n",
      "[t-SNE] Indexed 34000 samples in 3.686s...\n",
      "[t-SNE] Computed neighbors for 34000 samples in 925.740s...\n",
      "[t-SNE] Computed conditional probabilities for sample 1000 / 34000\n",
      "[t-SNE] Computed conditional probabilities for sample 2000 / 34000\n",
      "[t-SNE] Computed conditional probabilities for sample 3000 / 34000\n",
      "[t-SNE] Computed conditional probabilities for sample 4000 / 34000\n",
      "[t-SNE] Computed conditional probabilities for sample 5000 / 34000\n",
      "[t-SNE] Computed conditional probabilities for sample 6000 / 34000\n",
      "[t-SNE] Computed conditional probabilities for sample 7000 / 34000\n",
      "[t-SNE] Computed conditional probabilities for sample 8000 / 34000\n",
      "[t-SNE] Computed conditional probabilities for sample 9000 / 34000\n",
      "[t-SNE] Computed conditional probabilities for sample 10000 / 34000\n",
      "[t-SNE] Computed conditional probabilities for sample 11000 / 34000\n",
      "[t-SNE] Computed conditional probabilities for sample 12000 / 34000\n",
      "[t-SNE] Computed conditional probabilities for sample 13000 / 34000\n",
      "[t-SNE] Computed conditional probabilities for sample 14000 / 34000\n",
      "[t-SNE] Computed conditional probabilities for sample 15000 / 34000\n",
      "[t-SNE] Computed conditional probabilities for sample 16000 / 34000\n",
      "[t-SNE] Computed conditional probabilities for sample 17000 / 34000\n",
      "[t-SNE] Computed conditional probabilities for sample 18000 / 34000\n",
      "[t-SNE] Computed conditional probabilities for sample 19000 / 34000\n",
      "[t-SNE] Computed conditional probabilities for sample 20000 / 34000\n",
      "[t-SNE] Computed conditional probabilities for sample 21000 / 34000\n",
      "[t-SNE] Computed conditional probabilities for sample 22000 / 34000\n",
      "[t-SNE] Computed conditional probabilities for sample 23000 / 34000\n",
      "[t-SNE] Computed conditional probabilities for sample 24000 / 34000\n",
      "[t-SNE] Computed conditional probabilities for sample 25000 / 34000\n",
      "[t-SNE] Computed conditional probabilities for sample 26000 / 34000\n",
      "[t-SNE] Computed conditional probabilities for sample 27000 / 34000\n",
      "[t-SNE] Computed conditional probabilities for sample 28000 / 34000\n",
      "[t-SNE] Computed conditional probabilities for sample 29000 / 34000\n",
      "[t-SNE] Computed conditional probabilities for sample 30000 / 34000\n",
      "[t-SNE] Computed conditional probabilities for sample 31000 / 34000\n",
      "[t-SNE] Computed conditional probabilities for sample 32000 / 34000\n",
      "[t-SNE] Computed conditional probabilities for sample 33000 / 34000\n",
      "[t-SNE] Computed conditional probabilities for sample 34000 / 34000\n",
      "[t-SNE] Mean sigma: 2.483899\n",
      "[t-SNE] KL divergence after 250 iterations with early exaggeration: 104.966408\n",
      "[t-SNE] KL divergence after 5000 iterations: 2.616060\n",
      "CPU times: user 2h 26min 53s, sys: 4min 41s, total: 2h 31min 34s\n",
      "Wall time: 37min 48s\n"
     ]
    }
   ],
   "source": [
    "%%time\n",
    "low_dim_embedding = tsne.fit_transform(X)"
   ]
  },
  {
   "cell_type": "code",
   "execution_count": 19,
   "metadata": {
    "collapsed": false
   },
   "outputs": [],
   "source": [
    "plot_with_labels(low_dim_embedding, Y)"
   ]
  },
  {
   "cell_type": "code",
   "execution_count": null,
   "metadata": {
    "collapsed": true
   },
   "outputs": [],
   "source": []
  }
 ],
 "metadata": {
  "kernelspec": {
   "display_name": "Python 2",
   "language": "python",
   "name": "python2"
  },
  "language_info": {
   "codemirror_mode": {
    "name": "ipython",
    "version": 2
   },
   "file_extension": ".py",
   "mimetype": "text/x-python",
   "name": "python",
   "nbconvert_exporter": "python",
   "pygments_lexer": "ipython2",
   "version": "2.7.15"
  },
  "widgets": {
   "state": {
    "430136c2732e4bc280edf0a2be6ac758": {
     "views": [
      {
       "cell_index": 3
      }
     ]
    }
   },
   "version": "1.2.0"
  }
 },
 "nbformat": 4,
 "nbformat_minor": 2
}
