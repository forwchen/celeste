{
 "cells": [
  {
   "cell_type": "code",
   "execution_count": null,
   "metadata": {},
   "outputs": [],
   "source": [
    "import os\n",
    "os.environ['CUDA_VISIBLE_DEVICES'] = '0'\n",
    "import math\n",
    "import random\n",
    "import numpy as np\n",
    "from tqdm import tqdm_notebook as tqdm\n",
    "import tensorflow as tf\n",
    "from datetime import datetime"
   ]
  },
  {
   "cell_type": "code",
   "execution_count": null,
   "metadata": {},
   "outputs": [],
   "source": [
    "from nets import nets_factory\n",
    "from preprocessing import preprocessing_factory\n",
    "slim = tf.contrib.slim"
   ]
  },
  {
   "cell_type": "code",
   "execution_count": null,
   "metadata": {},
   "outputs": [],
   "source": [
    "# tunable\n",
    "init_learning_rate = 0.001\n",
    "batch_size = 512\n",
    "learning_rate_decay_factor = 0.5\n",
    "num_epochs_per_decay = 5\n",
    "weight_decay = 0.00004\n",
    "\n",
    "# fixed\n",
    "num_classes = 340\n",
    "image_size = 128\n",
    "num_samples_per_epoch = num_classes * 10000"
   ]
  },
  {
   "cell_type": "code",
   "execution_count": null,
   "metadata": {},
   "outputs": [],
   "source": [
    "def decode(serialized_example, frame_or_flow='flow'):\n",
    "    features = tf.parse_single_example(serialized_example,features={\n",
    "        'label':tf.FixedLenFeature([], tf.int64),\n",
    "        'image_raw':tf.FixedLenFeature([], tf.string)\n",
    "        })\n",
    "    image = tf.image.decode_png(features['image_raw'], channels=1)\n",
    "    label = tf.cast(features['label'], tf.int32)\n",
    "\n",
    "    image = tf.reshape(image, [image_size, image_size, 1])\n",
    "    \n",
    "    return image, label\n",
    "\n",
    "feat_dir = '/home/forwchen/daily/190114/tfrecords'\n",
    "files = tf.data.Dataset.list_files(feat_dir+'/train-*.tfrecord').shuffle(100, seed=1234)\n",
    "\n",
    "ds = files.apply(tf.contrib.data.parallel_interleave(\n",
    "        tf.data.TFRecordDataset, cycle_length=8))\n",
    "ds = ds.map(decode, num_parallel_calls=16)\n",
    "ds = ds.apply(tf.contrib.data.shuffle_and_repeat(buffer_size=batch_size*10, seed=1234))\n",
    "ds = ds.apply(tf.contrib.data.batch_and_drop_remainder(batch_size))\n",
    "ds = ds.prefetch(buffer_size=batch_size * 4)\n",
    "\n",
    "iterator = tf.data.Iterator.from_structure(ds.output_types,\n",
    "                                           ds.output_shapes)\n",
    "images, labels = iterator.get_next()\n",
    "\n",
    "training_init_op = iterator.make_initializer(ds)"
   ]
  },
  {
   "cell_type": "code",
   "execution_count": null,
   "metadata": {},
   "outputs": [],
   "source": [
    "image_prep_fn = preprocessing_factory.get_preprocessing('inception_v1', is_training=False)\n",
    "images_preped = image_prep_fn(images, None, None)\n",
    "print images, images_preped\n",
    "\n",
    "\n",
    "net = tf.layers.conv2d(images_preped, 32, (5,5), strides=(2,2), padding='same', activation=tf.nn.relu)\n",
    "net = tf.layers.max_pooling2d(net, (2,2), (2,2))\n",
    "net = tf.layers.conv2d(net, 64, (3,3), padding='same', activation=tf.nn.relu)\n",
    "net = tf.layers.max_pooling2d(net, (2,2), (2,2))\n",
    "net = tf.layers.conv2d(net, 64, (3,3), padding='same', activation=tf.nn.relu)\n",
    "net = tf.layers.max_pooling2d(net, (2,2), (2,2))\n",
    "net = tf.layers.flatten(net)\n",
    "net = tf.layers.dropout(net, rate=0.2, training=True)\n",
    "net = tf.layers.dense(net, 512, activation=tf.nn.relu)\n",
    "net = tf.layers.dropout(net, rate=0.5, training=True)\n",
    "net = tf.layers.dense(net, num_classes, activation=None)\n",
    "\n",
    "class_logits = net\n",
    "\n",
    "\n",
    "labels_oh = tf.one_hot(labels, num_classes, on_value=1., off_value=0., dtype=tf.float32)\n",
    "\n",
    "cls_loss = tf.nn.softmax_cross_entropy_with_logits_v2(labels=labels_oh, logits=class_logits)\n",
    "cls_loss = tf.reduce_mean(cls_loss)\n",
    "\n",
    "reg_loss = 0.#tf.add_n(tf.losses.get_regularization_losses())\n",
    "\n",
    "tot_loss = cls_loss + reg_loss\n",
    "\n",
    "tf.summary.scalar('loss/tot', tot_loss)\n",
    "tf.summary.scalar('loss/cls', cls_loss)\n",
    "tf.summary.scalar('loss/reg', reg_loss)"
   ]
  },
  {
   "cell_type": "code",
   "execution_count": null,
   "metadata": {},
   "outputs": [],
   "source": [
    "global_step = tf.Variable(0, trainable=False, name='global_step')\n",
    "\n",
    "decay_steps = num_samples_per_epoch * num_epochs_per_decay / batch_size\n",
    "\n",
    "learning_rate = tf.train.exponential_decay(init_learning_rate,\n",
    "                                          global_step,\n",
    "                                          decay_steps,\n",
    "                                          learning_rate_decay_factor,\n",
    "                                          staircase=True,\n",
    "                                          name='exponential_decay_learning_rate')\n",
    "\n",
    "optimizer = tf.train.AdamOptimizer(learning_rate)\n",
    "#optimizer = tf.train.MomentumOptimizer(learning_rate, momentum=0.9)\n",
    "\n",
    "update_ops = tf.get_collection(tf.GraphKeys.UPDATE_OPS)\n",
    "\n",
    "with tf.control_dependencies(update_ops):\n",
    "    train_op = optimizer.minimize(tot_loss, global_step)\n",
    "\n",
    "saver = tf.train.Saver(tf.global_variables(), max_to_keep=10)\n",
    "    \n",
    "tf.summary.scalar('lr', learning_rate)"
   ]
  },
  {
   "cell_type": "code",
   "execution_count": null,
   "metadata": {},
   "outputs": [],
   "source": [
    "sess = tf.Session()\n",
    "sess.run(training_init_op)\n",
    "sess.run(tf.global_variables_initializer())"
   ]
  },
  {
   "cell_type": "code",
   "execution_count": null,
   "metadata": {},
   "outputs": [],
   "source": [
    "train_dir = './log'\n",
    "model_id = datetime.now().strftime(\"%H%M%S\")\n",
    "train_dir = os.path.join(train_dir, datetime.now().strftime(\"%Y%m%d\"), model_id)\n",
    "if not os.path.exists(train_dir): os.makedirs(train_dir)\n",
    "\n",
    "summary_writer = tf.summary.FileWriter(train_dir, flush_secs=30)\n",
    "merged_summ = tf.summary.merge_all()\n",
    "\n",
    "for iter_ in tqdm(range(100000)):\n",
    "    fet = sess.run([merged_summ, global_step, train_op])\n",
    "    summary_writer.add_summary(fet[0], fet[1])\n",
    "    #print fet[-1]\n",
    "    if iter_ % 1000 == 0:\n",
    "        saver.save(sess, os.path.join(train_dir, 'model'), global_step)"
   ]
  },
  {
   "cell_type": "code",
   "execution_count": null,
   "metadata": {},
   "outputs": [],
   "source": []
  }
 ],
 "metadata": {
  "kernelspec": {
   "display_name": "Python 2",
   "language": "python",
   "name": "python2"
  },
  "language_info": {
   "codemirror_mode": {
    "name": "ipython",
    "version": 2
   },
   "file_extension": ".py",
   "mimetype": "text/x-python",
   "name": "python",
   "nbconvert_exporter": "python",
   "pygments_lexer": "ipython2",
   "version": "2.7.15"
  },
  "widgets": {
   "state": {
    "026d2381884f4067824ed7ab048a0d42": {
     "views": []
    },
    "03e96369ce5945efbd31a9c7808c90a4": {
     "views": []
    },
    "043b90d775164f16a365345035115d43": {
     "views": []
    },
    "04f50bcbcfdb4d59b9702e802b23b3c9": {
     "views": []
    },
    "05212b1edf8144dcb662f53facc5cb4b": {
     "views": []
    },
    "0f151bf8c47a4b4e931f516eab1b02c8": {
     "views": []
    },
    "10c432b7594547deabfedbad6827ef36": {
     "views": []
    },
    "134d12367dd746028acbe1d5c416aaaf": {
     "views": []
    },
    "1cac32105f834f00ae6f619c5df8d6d9": {
     "views": []
    },
    "1d022521ac064e19b472aaf57ff1388e": {
     "views": []
    },
    "20b3dfd52d5d4448836eb3266bbbf79e": {
     "views": []
    },
    "2312ad9df1134e6aace97b0aeb17b7eb": {
     "views": []
    },
    "278168016cf648c4bf3727e9985ecb72": {
     "views": []
    },
    "27ca33b21f5549b5a570d57430a6810c": {
     "views": []
    },
    "37a4922f10a744a4ab3d95241d6c3af3": {
     "views": []
    },
    "37ad449fe68c407d86ee7747f9a6485e": {
     "views": []
    },
    "3a69d35391d042a19b8315d57fdd3590": {
     "views": []
    },
    "4046d32d790d4fc292c8e308b6a14bfe": {
     "views": []
    },
    "4094ab030e834f78a1813550fadbf23d": {
     "views": []
    },
    "40fe057b2f5d42708426e494e8f516f3": {
     "views": []
    },
    "4372bae7a8224db68aaa2930268f6b5c": {
     "views": []
    },
    "49b751c55528402c95eb049aab7fc2c5": {
     "views": []
    },
    "4a5591cf708e4e67a9bf1c584fe68b10": {
     "views": []
    },
    "54d5ed450a794c888f9c32a6a7895f48": {
     "views": []
    },
    "57010c316b2e409ea5ced3b093f23fe2": {
     "views": []
    },
    "58d60776170b477d93a4732478af223b": {
     "views": []
    },
    "5b12f32c95c2453586064ce8319ccdb2": {
     "views": []
    },
    "5c10d507ad9747288d0f0f89f85ccc13": {
     "views": []
    },
    "5ca9fc81647849a385a8e3838242b023": {
     "views": []
    },
    "5e5c3c66d9af4caa9e5b74bbbf198040": {
     "views": []
    },
    "60770c0b91c74a029f120c266c2285ca": {
     "views": []
    },
    "60820cff86b448d78e5ef877fc6b94e2": {
     "views": []
    },
    "622d1925469449c89ef8a6fb59ffbc69": {
     "views": []
    },
    "625d300f126946ef935bcdb4cf8c6698": {
     "views": []
    },
    "6551c6320c5e40dc90f3a7c7f6f57c4e": {
     "views": []
    },
    "6789e6e631314097a399b917aae8156a": {
     "views": []
    },
    "6afcb5161d3240ee8a9a157689e0a99d": {
     "views": []
    },
    "6c059292ec9041e0ab306a48aa01e161": {
     "views": []
    },
    "6ddcd5f744fa4979b34edf3b7e866d84": {
     "views": []
    },
    "70f0de65403e44b4a8b171d20e388208": {
     "views": []
    },
    "70f2fceec321418d8724889c981d1d12": {
     "views": []
    },
    "70feac45de8f4e979ce2cba8e8d417de": {
     "views": []
    },
    "734640bc7d944e4382c33fc7e5450606": {
     "views": []
    },
    "74372656a27547849771c925a16c5edf": {
     "views": []
    },
    "763918ae9cdc4278bc0914ae2c67eee3": {
     "views": []
    },
    "78d5cfdf0d3a4d8890817c28a2ca3aeb": {
     "views": []
    },
    "7a5e87cb2afc44859affc21fb30c9f14": {
     "views": []
    },
    "7b1c226107714e54baa4fd9c71370a0b": {
     "views": []
    },
    "7d2ae45864f248df9b63bfd329717b95": {
     "views": []
    },
    "7f9214938641476f853b2a5e3b512e68": {
     "views": []
    },
    "8127703727f84676bfbb589cb33ce637": {
     "views": []
    },
    "82889c9b5b6b484b9e6be1edd65fefe4": {
     "views": []
    },
    "849b1119dd6f4c819b120bfc9151714e": {
     "views": []
    },
    "86f406c4eed54df49b6eb89bc841b729": {
     "views": []
    },
    "893e842fd62d4d5aab4faef1e0d6eea6": {
     "views": []
    },
    "8a9e62f1e18a4545a47830b9acf4af1f": {
     "views": []
    },
    "8b66bf738a4b43c9af99eeee13d37e73": {
     "views": []
    },
    "8cf6ff02357642bc83885bf2a24dc739": {
     "views": []
    },
    "8d0a99a3ba8749958987563172c3dd45": {
     "views": []
    },
    "8d0abee4a4fa4f4eb18b2f4e25504a41": {
     "views": []
    },
    "92c1026395c44d42972b050f5b383c9c": {
     "views": []
    },
    "932689a5efcc44b6ad023721cbfb703a": {
     "views": []
    },
    "935d4100f1c34c06a8c338b558e1e631": {
     "views": []
    },
    "98ff282479f044a9978233e5c369163d": {
     "views": []
    },
    "9a7e56fe69e541f8bec81aff7262d012": {
     "views": []
    },
    "9c97f53f319b44b2a943e0c740c7c281": {
     "views": []
    },
    "9d2a910d849b4cfabdcc39040eb5a240": {
     "views": []
    },
    "9db8c123abc147baaba4c14dfe692812": {
     "views": []
    },
    "9ddfb15c3fd64f8da412a13799965d45": {
     "views": []
    },
    "a0dbd497135c49f0bc380c7ce7eecc5e": {
     "views": []
    },
    "a34f5b11f02b4808902c4fc34a475973": {
     "views": []
    },
    "a721eed728e046f5a3fb615e626f42e9": {
     "views": []
    },
    "aa3fabd9c1e642908f9f8f685ecd4033": {
     "views": []
    },
    "ab3ec1f4d92641fd8712f9c540ea83df": {
     "views": []
    },
    "ac86d318b74244deb92556e521047361": {
     "views": []
    },
    "af8086f42c7a46b59e05760c1cd17f4c": {
     "views": []
    },
    "b00e2edabea74b88a8bfcd0037cc47fb": {
     "views": []
    },
    "b466dc6c144247c68751db7b181d5cbf": {
     "views": []
    },
    "b553590ce1604c9ea2e7f89d5678d3ba": {
     "views": []
    },
    "b586171b4b95435b8b9bc9ed4e1118d3": {
     "views": []
    },
    "b5ed8934169a48a38f068a4af55a5b8d": {
     "views": []
    },
    "b692effab3b04bd2ae2a9b4e7b261438": {
     "views": []
    },
    "b782ed1e6f90495e99ab08b5e36b0a79": {
     "views": []
    },
    "bc628f2cc6604002a0bb90e27c81b130": {
     "views": []
    },
    "bc8127a63af44ce5b8d2d9a35446a21c": {
     "views": []
    },
    "bdfc6ecd696546ca8e709123514e683c": {
     "views": []
    },
    "bf47e5dd5d244d37b7e33a8bf865a196": {
     "views": []
    },
    "c1b3e785134b4e9690e9440220c80b1d": {
     "views": []
    },
    "c4db5841b8f142ad9dd0d8f1a4d0d786": {
     "views": []
    },
    "c66df0bdbe22490fa24996d8cada9249": {
     "views": []
    },
    "cc88ae0766914012a54457c8cf7d3633": {
     "views": []
    },
    "ccaf44a2a01e486296f6ada2074405fe": {
     "views": []
    },
    "d1e99e2fba1d45779bae18e9d947e41c": {
     "views": []
    },
    "d3d6617e142847db8101eddd4ff4a5c9": {
     "views": []
    },
    "d549a51b022940a192e29b6892b5f71a": {
     "views": []
    },
    "d5cc1954d63b4bddaba4fcfff5f728a7": {
     "views": []
    },
    "d5d2d4a86af94a9f9604ef47a4781a40": {
     "views": []
    },
    "db4b8774fd5a44dfaf33430961182194": {
     "views": []
    },
    "ddf1433ebd0347188ed00a74628142e8": {
     "views": []
    },
    "e08eff5ac6b245b5806bad0d6601fff0": {
     "views": [
      {
       "cell_index": 7
      }
     ]
    },
    "e37c54fa856747a5975d33e33afd65a1": {
     "views": []
    },
    "e5f259d9830346bebf95e4609b6b3446": {
     "views": []
    },
    "e8f362c70f654337b87211c163b92dd7": {
     "views": []
    },
    "eac871a25e3f4c3b8c92b067dd5ee307": {
     "views": []
    },
    "ec044ad63b7c4e4c84b966090741f077": {
     "views": []
    },
    "ed1b6a5265bb47dbaab4b3f1b7a5c328": {
     "views": []
    },
    "f04d4c6ac9d84bc59c8a96802af23b1e": {
     "views": []
    },
    "f2403ae7bf304103a1d8527a7d1eafa3": {
     "views": []
    },
    "f584c385324d4c4085b3c37b6b20ce01": {
     "views": []
    },
    "f7be6b801c8c402dba7f537dac27ed0d": {
     "views": []
    },
    "fa78a165342f4937b19bf60b7e5c7538": {
     "views": []
    },
    "fb6572bfc2874ea5a3f7d5fcab71fbd4": {
     "views": []
    },
    "fbe240cace7d4fcda7f59b3c9ed742ba": {
     "views": []
    },
    "fcf75085366a4fc7ad76a49c63587e49": {
     "views": []
    }
   },
   "version": "1.1.2"
  }
 },
 "nbformat": 4,
 "nbformat_minor": 2
}
