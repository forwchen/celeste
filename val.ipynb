{
 "cells": [
  {
   "cell_type": "code",
   "execution_count": null,
   "metadata": {},
   "outputs": [],
   "source": [
    "import os\n",
    "os.environ['CUDA_VISIBLE_DEVICES'] = '1'\n",
    "import math\n",
    "import random\n",
    "import numpy as np\n",
    "from tqdm import tqdm_notebook as tqdm\n",
    "import tensorflow as tf\n",
    "from datetime import datetime"
   ]
  },
  {
   "cell_type": "code",
   "execution_count": null,
   "metadata": {},
   "outputs": [],
   "source": [
    "from nets import nets_factory\n",
    "from preprocessing import preprocessing_factory\n",
    "slim = tf.contrib.slim"
   ]
  },
  {
   "cell_type": "code",
   "execution_count": null,
   "metadata": {},
   "outputs": [],
   "source": [
    "num_classes = 340\n",
    "image_size = 128\n",
    "batch_size = 100\n",
    "\n",
    "num_samples = num_classes * 1000"
   ]
  },
  {
   "cell_type": "code",
   "execution_count": null,
   "metadata": {},
   "outputs": [],
   "source": [
    "def decode(serialized_example, frame_or_flow='flow'):\n",
    "    features = tf.parse_single_example(serialized_example,features={\n",
    "        'label':tf.FixedLenFeature([], tf.int64),\n",
    "        'image_raw':tf.FixedLenFeature([], tf.string)\n",
    "        })\n",
    "    image = tf.image.decode_png(features['image_raw'], channels=1)\n",
    "    label = tf.cast(features['label'], tf.int32)\n",
    "\n",
    "    image = tf.reshape(image, [image_size, image_size, 1])\n",
    "    \n",
    "    return image, label\n",
    "\n",
    "feat_dir = '/home/forwchen/daily/190114/tfrecords'\n",
    "files = tf.data.Dataset.list_files(feat_dir+'/val-*.tfrecord').shuffle(100, seed=1234)\n",
    "\n",
    "ds = files.apply(tf.contrib.data.parallel_interleave(\n",
    "        tf.data.TFRecordDataset, cycle_length=8))\n",
    "ds = ds.map(decode, num_parallel_calls=16)\n",
    "ds = ds.repeat()\n",
    "ds = ds.apply(tf.contrib.data.batch_and_drop_remainder(batch_size))\n",
    "ds = ds.prefetch(buffer_size=batch_size * 4)\n",
    "\n",
    "iterator = tf.data.Iterator.from_structure(ds.output_types,\n",
    "                                           ds.output_shapes)\n",
    "images, labels = iterator.get_next()\n",
    "\n",
    "training_init_op = iterator.make_initializer(ds)"
   ]
  },
  {
   "cell_type": "code",
   "execution_count": null,
   "metadata": {},
   "outputs": [],
   "source": [
    "image_prep_fn = preprocessing_factory.get_preprocessing('inception_v1', is_training=False)\n",
    "images_preped = image_prep_fn(images, None, None)\n",
    "print images, images_preped\n",
    "\n",
    "net = tf.layers.conv2d(images_preped, 32, (5,5), strides=(2,2), padding='same', activation=tf.nn.relu)\n",
    "net = tf.layers.max_pooling2d(net, (2,2), (2,2))\n",
    "net = tf.layers.conv2d(net, 64, (3,3), padding='same', activation=tf.nn.relu)\n",
    "net = tf.layers.max_pooling2d(net, (2,2), (2,2))\n",
    "net = tf.layers.conv2d(net, 64, (3,3), padding='same', activation=tf.nn.relu)\n",
    "net = tf.layers.max_pooling2d(net, (2,2), (2,2))\n",
    "net = tf.layers.flatten(net)\n",
    "net = tf.layers.dropout(net, rate=0.2, training=False)\n",
    "net = tf.layers.dense(net, 512, activation=tf.nn.relu)\n",
    "net = tf.layers.dropout(net, rate=0.5, training=False)\n",
    "net = tf.layers.dense(net, num_classes, activation=None)\n",
    "\n",
    "class_logits = net\n",
    "\n",
    "class_probs = tf.nn.softmax(class_logits)\n",
    "\n",
    "preds = tf.argmax(class_probs, axis=-1)"
   ]
  },
  {
   "cell_type": "code",
   "execution_count": null,
   "metadata": {},
   "outputs": [],
   "source": [
    "saver = tf.train.Saver(tf.global_variables())"
   ]
  },
  {
   "cell_type": "code",
   "execution_count": null,
   "metadata": {},
   "outputs": [],
   "source": [
    "sess = tf.Session()\n",
    "sess.run(training_init_op)"
   ]
  },
  {
   "cell_type": "code",
   "execution_count": null,
   "metadata": {},
   "outputs": [],
   "source": [
    "saver.restore(sess, '/home/forwchen/daily/190114/celeste/log/20190115/163257/model-29001')"
   ]
  },
  {
   "cell_type": "code",
   "execution_count": null,
   "metadata": {},
   "outputs": [],
   "source": [
    "hit = 0.\n",
    "tot = 0.\n",
    "\n",
    "for iter_ in tqdm(range(num_samples / batch_size)):\n",
    "    fet = sess.run([labels, preds])\n",
    "    hit += (fet[0] == fet[1]).astype(np.float32).sum()\n",
    "    tot += len(fet[0])\n",
    "\n",
    "print hit/tot"
   ]
  },
  {
   "cell_type": "code",
   "execution_count": null,
   "metadata": {},
   "outputs": [],
   "source": []
  }
 ],
 "metadata": {
  "kernelspec": {
   "display_name": "Python 2",
   "language": "python",
   "name": "python2"
  },
  "language_info": {
   "codemirror_mode": {
    "name": "ipython",
    "version": 2
   },
   "file_extension": ".py",
   "mimetype": "text/x-python",
   "name": "python",
   "nbconvert_exporter": "python",
   "pygments_lexer": "ipython2",
   "version": "2.7.15"
  },
  "widgets": {
   "state": {
    "004396be6c51432c8c1399b76bb9cfb3": {
     "views": [
      {
       "cell_index": 8
      }
     ]
    },
    "09e4a262dc304abe8cec23b5b4aec69a": {
     "views": []
    },
    "15918e15333b49e5a301f4f2430ac6bf": {
     "views": []
    },
    "15c5404007a2434cac8d3977848ca814": {
     "views": []
    },
    "17b3feeba05b4289b8fe793f3a105f89": {
     "views": []
    },
    "18c38b2802de4b178fc04eda08d85ba0": {
     "views": []
    },
    "1c6c3d94c0ae4796a9e9d882545dfb41": {
     "views": []
    },
    "1de1293dc5c44b62a95b007a1071b19e": {
     "views": []
    },
    "29e0421337f34c55ae06e2baa609503e": {
     "views": []
    },
    "2ee36a2391734d948ebda10c4b2bb50d": {
     "views": []
    },
    "313c625584a94d328cdc97571281708d": {
     "views": []
    },
    "37bdeb411f7c43b19a7cf08daf208c07": {
     "views": []
    },
    "3fd7d1edb9a744e3b86f1146685f67dc": {
     "views": []
    },
    "410eabdba75d45298fcc239ee48702a8": {
     "views": []
    },
    "438bce235da847479b538268c3d7360e": {
     "views": []
    },
    "43a68d7a6e894d5a911fe62fb06bd83d": {
     "views": []
    },
    "4882d53ae1ec4da5945f47ddacc0ced8": {
     "views": []
    },
    "4a7a012642c9461480286ba73b57f9fd": {
     "views": []
    },
    "4ac1984f35ac40ea990ba5947c6a3ade": {
     "views": []
    },
    "512fdb315f1e49b3a9eb7022b87e3ba0": {
     "views": []
    },
    "533bf8b14e634254b339668bdabf362c": {
     "views": []
    },
    "583d373d2c7848ccabe64d9be6ccf244": {
     "views": []
    },
    "59c92fb4cf5f4691a1705e01a6f60e73": {
     "views": []
    },
    "5a01a9936ee74b6391e2d11d63679677": {
     "views": []
    },
    "743fbb03b7014497b1e90da59e229196": {
     "views": []
    },
    "76f8f8c9b11f441d944121fc23c696f5": {
     "views": []
    },
    "785621ef1c0c42c2aa9993fd76193911": {
     "views": []
    },
    "79671d19b51f4871922195e70277a757": {
     "views": []
    },
    "7ab810e6792843f283b722f1f29d0b6b": {
     "views": []
    },
    "7b860edda1204b8c837e4ef218ece5ea": {
     "views": []
    },
    "7bd14aed8a084057857c35ad94df143a": {
     "views": []
    },
    "7d6447a07f424f95af05308ade37b20e": {
     "views": []
    },
    "8a95ee4bb12547359647336de7aad9d1": {
     "views": []
    },
    "8fad159a7f604f06ac7765eb4227bf5b": {
     "views": []
    },
    "8fae3f09df9b4a489211a29ff4ed5d2b": {
     "views": []
    },
    "90d1a4d4557d41f4acc0d18931003ec5": {
     "views": []
    },
    "921bdf046fa74f278e921beb12357bbd": {
     "views": []
    },
    "9493d1b8c77d49daa2fad70dfaa38f58": {
     "views": []
    },
    "957721d1ca974973bc640c9a79b9d026": {
     "views": []
    },
    "9b63f98eb34c46a9b56691174745a56b": {
     "views": []
    },
    "9ee2c5042bb14954b4e8d1cceeefbe25": {
     "views": []
    },
    "a097703be545490581b7ab4619131129": {
     "views": []
    },
    "acf2afe1a55649c1b73dfd8437978a06": {
     "views": []
    },
    "b0f0c56a90e54cd8ba1ac50abd306039": {
     "views": []
    },
    "b6e5c716bea14ba3b3a2b759f981cfe2": {
     "views": []
    },
    "ba4754b5cc1f477eae6821ed6873c83e": {
     "views": []
    },
    "bade113e67d7476cb2957aadf8e39b2b": {
     "views": []
    },
    "bdba3db438984865824fa53a82944f86": {
     "views": []
    },
    "ca69184537f944068b739a067d8c8ee3": {
     "views": []
    },
    "ce50728dda644860aaddcefc41698e34": {
     "views": []
    },
    "cf57f18f325644ad9e8b77283107809c": {
     "views": []
    },
    "d1145f989854463f8a8e9e1fa81f2baa": {
     "views": []
    },
    "d3872d7c77d04839b4ea8f7f2f0701cc": {
     "views": []
    },
    "d809b54a650a4f9bb4c5fa4f35721bf7": {
     "views": []
    },
    "db1b076134af47dfb3131cdb8f8547fe": {
     "views": []
    },
    "dbbfb97fccbf455ab26559524df096ea": {
     "views": []
    },
    "df39d7bf898042d39197ab3c5472f79b": {
     "views": []
    },
    "e0b7a11ecaf942d393e99b976769b7d2": {
     "views": []
    },
    "e1c276ff9a81453aa8eba027a3183f29": {
     "views": []
    },
    "e1cb939fc42f46c0bf44fc69280e1d1d": {
     "views": []
    },
    "e70f0715406e4658b20e765b2eccd9ca": {
     "views": []
    },
    "e8850564ac3d4498906028b84cf86708": {
     "views": []
    },
    "e9f11b56b1dc4e11ab97631f4bf56619": {
     "views": []
    },
    "ee507dde8e334a0cbe579ad22540f88c": {
     "views": []
    },
    "f4c7eda39dc94adf9f4611a4052ce601": {
     "views": []
    },
    "f84de6ef1a87497cb7b806443a5f7023": {
     "views": []
    }
   },
   "version": "1.1.2"
  }
 },
 "nbformat": 4,
 "nbformat_minor": 2
}
