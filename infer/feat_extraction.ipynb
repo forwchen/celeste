{
 "cells": [
  {
   "cell_type": "code",
   "execution_count": null,
   "metadata": {},
   "outputs": [],
   "source": [
    "import matplotlib\n",
    "import seaborn as sns\n",
    "import matplotlib.pyplot as plt\n",
    "from matplotlib.pyplot import imshow\n",
    "%matplotlib inline\n",
    "import numpy as np\n",
    "import pandas\n",
    "import json\n",
    "from PIL import Image, ImageDraw\n",
    "import cPickle as pkl\n",
    "from matplotlib.colors import LogNorm\n",
    "from tqdm import tqdm_notebook as tqdm\n",
    "from  scipy.spatial import distance"
   ]
  },
  {
   "cell_type": "code",
   "execution_count": null,
   "metadata": {},
   "outputs": [],
   "source": [
    "cls_id = pkl.load(file('../common/class_id_map.pkl', 'rb'))"
   ]
  },
  {
   "cell_type": "code",
   "execution_count": null,
   "metadata": {},
   "outputs": [],
   "source": [
    "val_img_strokes = {}"
   ]
  },
  {
   "cell_type": "code",
   "execution_count": null,
   "metadata": {},
   "outputs": [],
   "source": [
    "from infer import InferUtil"
   ]
  },
  {
   "cell_type": "code",
   "execution_count": null,
   "metadata": {},
   "outputs": [],
   "source": [
    "iu = InferUtil('./ckpt/model-99001')"
   ]
  },
  {
   "cell_type": "code",
   "execution_count": null,
   "metadata": {},
   "outputs": [],
   "source": [
    "for cls in tqdm(cls_id):\n",
    "    _tmp = pandas.read_csv('../../data_all/%s.csv'%cls)\n",
    "    n = len(_tmp)\n",
    "    \n",
    "    tmp_list = []\n",
    "    img_list = []\n",
    "    for val_idx in range(n-1000, n):\n",
    "        strokes = json.loads(_tmp.iloc[val_idx,1])\n",
    "\n",
    "        image = Image.new(\"P\", (128,128), color=255)\n",
    "        image_draw = ImageDraw.Draw(image)\n",
    "        \n",
    "        save_strokes = []\n",
    "        \n",
    "        for stroke in strokes:\n",
    "            ss = np.array(stroke)/2\n",
    "            for i in range(len(ss[0])-1):\n",
    "                image_draw.line([ss[0][i], \n",
    "                                 ss[1][i],\n",
    "                                 ss[0][i+1], \n",
    "                                 ss[1][i+1]],\n",
    "                                fill=0, width=3)\n",
    "            save_strokes.append(ss)\n",
    "        tmp_list.append(save_strokes)\n",
    "        img_list.append(np.array(image, dtype=np.uint8))\n",
    "    \n",
    "    feats = iu.ext(img_list)    \n",
    "    \n",
    "    val_img_strokes[cls] = list(zip(feats, tmp_list))"
   ]
  },
  {
   "cell_type": "code",
   "execution_count": null,
   "metadata": {},
   "outputs": [],
   "source": [
    "pkl.dump(val_img_strokes, file('val_image_strokes.pkl','wb'), 2)"
   ]
  },
  {
   "cell_type": "code",
   "execution_count": null,
   "metadata": {},
   "outputs": [],
   "source": []
  }
 ],
 "metadata": {
  "kernelspec": {
   "display_name": "Python 2",
   "language": "python",
   "name": "python2"
  },
  "language_info": {
   "codemirror_mode": {
    "name": "ipython",
    "version": 2
   },
   "file_extension": ".py",
   "mimetype": "text/x-python",
   "name": "python",
   "nbconvert_exporter": "python",
   "pygments_lexer": "ipython2",
   "version": "2.7.15"
  },
  "widgets": {
   "state": {
    "518480717de04e609b99c9e043f91bd6": {
     "views": []
    },
    "5c683a92125146a48098e1f7916a0ac4": {
     "views": []
    },
    "5e249857e615480e83891e94a1846da9": {
     "views": []
    },
    "87acb568499b4bc2aa4f5b992bd5d199": {
     "views": []
    },
    "91fa4fec1bc547adbc5592a94c261b2a": {
     "views": []
    },
    "eb8822d256fd418caa4bda9c2ee0e81c": {
     "views": []
    }
   },
   "version": "1.1.2"
  }
 },
 "nbformat": 4,
 "nbformat_minor": 2
}
