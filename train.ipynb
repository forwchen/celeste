{
 "cells": [
  {
   "cell_type": "code",
   "execution_count": 1,
   "metadata": {},
   "outputs": [],
   "source": [
    "import os\n",
    "os.environ['CUDA_VISIBLE_DEVICES'] = '0'\n",
    "import math\n",
    "import random\n",
    "import numpy as np\n",
    "import tensorflow as tf"
   ]
  },
  {
   "cell_type": "code",
   "execution_count": 2,
   "metadata": {},
   "outputs": [],
   "source": [
    "from nets import nets_factory\n",
    "from preprocessing import preprocessing_factory\n",
    "slim = tf.contrib.slim"
   ]
  },
  {
   "cell_type": "code",
   "execution_count": null,
   "metadata": {},
   "outputs": [],
   "source": [
    "num_classes = 340\n",
    "batch_size = 256\n",
    "image_size = 128\n",
    "num_samples_per_epoch = "
   ]
  },
  {
   "cell_type": "code",
   "execution_count": 3,
   "metadata": {},
   "outputs": [
    {
     "name": "stdout",
     "output_type": "stream",
     "text": [
      "WARNING:tensorflow:From <ipython-input-3-bd5a1a3a9334>:20: parallel_interleave (from tensorflow.contrib.data.python.ops.interleave_ops) is deprecated and will be removed in a future version.\n",
      "Instructions for updating:\n",
      "Use `tf.data.experimental.parallel_interleave(...)`.\n",
      "WARNING:tensorflow:From <ipython-input-3-bd5a1a3a9334>:22: shuffle_and_repeat (from tensorflow.contrib.data.python.ops.shuffle_ops) is deprecated and will be removed in a future version.\n",
      "Instructions for updating:\n",
      "Use `tf.data.experimental.shuffle_and_repeat(...)`.\n",
      "WARNING:tensorflow:From <ipython-input-3-bd5a1a3a9334>:23: batch_and_drop_remainder (from tensorflow.contrib.data.python.ops.batching) is deprecated and will be removed in a future version.\n",
      "Instructions for updating:\n",
      "Use `tf.data.Dataset.batch(..., drop_remainder=True)`.\n"
     ]
    }
   ],
   "source": [
    "def decode(serialized_example, frame_or_flow='flow'):\n",
    "    features = tf.parse_single_example(serialized_example,features={\n",
    "        'label':tf.FixedLenFeature([], tf.int64),\n",
    "        'image_raw':tf.FixedLenFeature([], tf.string)\n",
    "        })\n",
    "    image = tf.image.decode_png(features['image_raw'])\n",
    "    label = tf.cast(features['label'], tf.int32)\n",
    "\n",
    "    image = tf.reshape(image, [image_size, image_size, 1])\n",
    "    \n",
    "    return image, label\n",
    "\n",
    "feat_dir = '/home/forwchen/daily/190114/tfrecords'\n",
    "files = tf.data.Dataset.list_files(feat_dir+'/val-*.tfrecord').shuffle(300, seed=1234)\n",
    "\n",
    "ds = files.apply(tf.contrib.data.parallel_interleave(\n",
    "        tf.data.TFRecordDataset, cycle_length=8))\n",
    "ds = ds.map(decode, num_parallel_calls=16)\n",
    "ds = ds.apply(tf.contrib.data.shuffle_and_repeat(buffer_size=batch_size*10, seed=1234))\n",
    "ds = ds.apply(tf.contrib.data.batch_and_drop_remainder(batch_size))\n",
    "ds = ds.prefetch(buffer_size=batch_size * 4)\n",
    "\n",
    "iterator = tf.data.Iterator.from_structure(ds.output_types,\n",
    "                                           ds.output_shapes)\n",
    "images, labels = iterator.get_next()\n",
    "\n",
    "training_init_op = iterator.make_initializer(ds)"
   ]
  },
  {
   "cell_type": "code",
   "execution_count": 4,
   "metadata": {},
   "outputs": [
    {
     "name": "stdout",
     "output_type": "stream",
     "text": [
      "inception_prep no aug\n",
      "Tensor(\"IteratorGetNext:0\", shape=(128, 128, 128, 1), dtype=uint8) Tensor(\"eval_image/Mul:0\", shape=(128, 128, 128, 1), dtype=float32)\n",
      "INFO:tensorflow:Scale of 0 disables regularizer.\n",
      "WARNING:tensorflow:From nets/inception_v1.py:311: calling reduce_mean (from tensorflow.python.ops.math_ops) with keep_dims is deprecated and will be removed in a future version.\n",
      "Instructions for updating:\n",
      "keep_dims is deprecated, use keepdims instead\n",
      "Tensor(\"InceptionV1/Logits/global_pool:0\", shape=(128, 1, 1, 1024), dtype=float32)\n"
     ]
    }
   ],
   "source": [
    "image_prep_fn = preprocessing_factory.get_preprocessing('inception_v1', is_training=False)\n",
    "images_preped = image_prep_fn(images, None, None)\n",
    "print images, images_preped\n",
    "\n",
    "net_fn = nets_factory.get_network_fn('inception_v1', num_classes=None, is_training=True)\n",
    "logits, end_points = net_fn(images_preped)\n",
    "print logits\n",
    "\n",
    "logits = tf.squeeze(logits)\n",
    "class_logits = tf.layers.dense(logits, num_classes)\n",
    "\n",
    "labels_oh = tf.one_hot(labels, num_classes, on_value=1., off_value=0., dtype=tf.float32)\n",
    "\n",
    "loss = tf.nn.softmax_cross_entropy_with_logits_v2(labels=labels_oh, logits=class_logits)\n",
    "loss = tf.reduce_mean(loss)"
   ]
  },
  {
   "cell_type": "code",
   "execution_count": null,
   "metadata": {},
   "outputs": [],
   "source": [
    "global_step = tf.Variable(0, trainable=False, name='global_step')\n",
    "\n"
   ]
  },
  {
   "cell_type": "code",
   "execution_count": 5,
   "metadata": {},
   "outputs": [],
   "source": [
    "#sess = tf.Session()\n",
    "#sess.run(training_init_op)"
   ]
  }
 ],
 "metadata": {
  "kernelspec": {
   "display_name": "Python 2",
   "language": "python",
   "name": "python2"
  },
  "language_info": {
   "codemirror_mode": {
    "name": "ipython",
    "version": 2
   },
   "file_extension": ".py",
   "mimetype": "text/x-python",
   "name": "python",
   "nbconvert_exporter": "python",
   "pygments_lexer": "ipython2",
   "version": "2.7.15"
  },
  "widgets": {
   "state": {},
   "version": "1.1.2"
  }
 },
 "nbformat": 4,
 "nbformat_minor": 2
}
